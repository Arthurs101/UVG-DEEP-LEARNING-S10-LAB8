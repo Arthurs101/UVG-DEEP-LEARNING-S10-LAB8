{
 "cells": [
  {
   "cell_type": "code",
   "execution_count": null,
   "metadata": {},
   "outputs": [],
   "source": [
    "#TODO\n",
    "#READ THE DATA \n",
    "#SET UP THE MODEL\n",
    "#TRAIN IT\n",
    "#PREDICT"
   ]
  }
 ],
 "metadata": {
  "language_info": {
   "name": "python"
  }
 },
 "nbformat": 4,
 "nbformat_minor": 2
}
